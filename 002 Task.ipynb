{
 "cells": [
  {
   "cell_type": "markdown",
   "metadata": {},
   "source": [
    "# Задание\n",
    "Вопросы взяты из каждодневной практики, по ним вы можете оценить какого рода задачи у нас решают ML-разработчики.\n",
    "\n",
    "Из базы загружены заказы клиентов магазина в форме двух pandas.DataFrame’ов: orders и order_lines.\n",
    "    \n",
    "Данные вида:\n",
    "\n",
    "### orders \n",
    "содержит информацию о заказах: идентификатор заказа, идентификатор покупателя, время заказа\n",
    "\n",
    "<br>OrderId,CustomerId,DateTime\n",
    "<br>5,583,2017-01-01 15:03:17\n",
    "<br>13,900,2019-02-05 05:02:59\n",
    "<br>69,19573,2018-11-03 23:59:59\n",
    "\n",
    "\n",
    "### order_lines \n",
    "содержит информацию о линиях чеков: идентификатор продукта, идентификатор заказа, цену продукта\n",
    "\n",
    "<br>ProductId,OrderId,Price\n",
    "<br>5873,5,3026.0\n",
    "<br>7265,5,573.0\n",
    "<br>9675,5,159.0\n",
    "<br>5873,6,2999.0\n",
    "<br>13,6,57.0\n",
    "\n",
    "Постройте отчёт по популярным продуктами - функцию, возвращающую pandas.DataFrame, где видны\n",
    "<br> - самые популярные за последний месяц продукты\n",
    "<br> - суммарная выручка по каждому такому продукту\n",
    "<br> - средний чек заказов, в которых есть такие продукты"
   ]
  },
  {
   "cell_type": "code",
   "execution_count": 1,
   "metadata": {},
   "outputs": [],
   "source": [
    "import pandas as pd\n",
    "import datetime\n",
    "\n",
    "# вместо переменной datetime.datetime.today().month - текущий месяц, \n",
    "# возмем статическое значение месяца для простоты работы с сданными\n",
    "month_curr = 11"
   ]
  },
  {
   "cell_type": "code",
   "execution_count": 2,
   "metadata": {},
   "outputs": [],
   "source": [
    "# Загружаем данные в pandas DataFrame для последующей обработки\n",
    "\n",
    "df1 = pd.read_excel('MindBox.xlsx', sheet_name='orders')\n",
    "df2 = pd.read_excel('MindBox.xlsx', sheet_name='order_lines')"
   ]
  },
  {
   "cell_type": "code",
   "execution_count": 3,
   "metadata": {},
   "outputs": [
    {
     "data": {
      "text/html": [
       "<div>\n",
       "<style scoped>\n",
       "    .dataframe tbody tr th:only-of-type {\n",
       "        vertical-align: middle;\n",
       "    }\n",
       "\n",
       "    .dataframe tbody tr th {\n",
       "        vertical-align: top;\n",
       "    }\n",
       "\n",
       "    .dataframe thead th {\n",
       "        text-align: right;\n",
       "    }\n",
       "</style>\n",
       "<table border=\"1\" class=\"dataframe\">\n",
       "  <thead>\n",
       "    <tr style=\"text-align: right;\">\n",
       "      <th></th>\n",
       "      <th>OrderId</th>\n",
       "      <th>CustomerId</th>\n",
       "      <th>DateTime</th>\n",
       "    </tr>\n",
       "  </thead>\n",
       "  <tbody>\n",
       "    <tr>\n",
       "      <th>0</th>\n",
       "      <td>20</td>\n",
       "      <td>19</td>\n",
       "      <td>2017-01-01 15:03:17.000</td>\n",
       "    </tr>\n",
       "    <tr>\n",
       "      <th>1</th>\n",
       "      <td>25</td>\n",
       "      <td>25</td>\n",
       "      <td>2019-02-05 05:02:59.000</td>\n",
       "    </tr>\n",
       "    <tr>\n",
       "      <th>2</th>\n",
       "      <td>10</td>\n",
       "      <td>21</td>\n",
       "      <td>2018-11-03 23:59:59.000</td>\n",
       "    </tr>\n",
       "    <tr>\n",
       "      <th>3</th>\n",
       "      <td>21</td>\n",
       "      <td>15</td>\n",
       "      <td>2018-11-04 23:59:58.995</td>\n",
       "    </tr>\n",
       "    <tr>\n",
       "      <th>4</th>\n",
       "      <td>7</td>\n",
       "      <td>21</td>\n",
       "      <td>2018-11-05 23:59:58.995</td>\n",
       "    </tr>\n",
       "  </tbody>\n",
       "</table>\n",
       "</div>"
      ],
      "text/plain": [
       "   OrderId  CustomerId                DateTime\n",
       "0       20          19 2017-01-01 15:03:17.000\n",
       "1       25          25 2019-02-05 05:02:59.000\n",
       "2       10          21 2018-11-03 23:59:59.000\n",
       "3       21          15 2018-11-04 23:59:58.995\n",
       "4        7          21 2018-11-05 23:59:58.995"
      ]
     },
     "execution_count": 3,
     "metadata": {},
     "output_type": "execute_result"
    }
   ],
   "source": [
    "# Проверяем всё ли корректно загрузилось\n",
    "\n",
    "df1.head()"
   ]
  },
  {
   "cell_type": "code",
   "execution_count": 4,
   "metadata": {},
   "outputs": [
    {
     "data": {
      "text/html": [
       "<div>\n",
       "<style scoped>\n",
       "    .dataframe tbody tr th:only-of-type {\n",
       "        vertical-align: middle;\n",
       "    }\n",
       "\n",
       "    .dataframe tbody tr th {\n",
       "        vertical-align: top;\n",
       "    }\n",
       "\n",
       "    .dataframe thead th {\n",
       "        text-align: right;\n",
       "    }\n",
       "</style>\n",
       "<table border=\"1\" class=\"dataframe\">\n",
       "  <thead>\n",
       "    <tr style=\"text-align: right;\">\n",
       "      <th></th>\n",
       "      <th>ProductId</th>\n",
       "      <th>OrderId</th>\n",
       "      <th>Price</th>\n",
       "    </tr>\n",
       "  </thead>\n",
       "  <tbody>\n",
       "    <tr>\n",
       "      <th>0</th>\n",
       "      <td>19</td>\n",
       "      <td>25</td>\n",
       "      <td>3026</td>\n",
       "    </tr>\n",
       "    <tr>\n",
       "      <th>1</th>\n",
       "      <td>27</td>\n",
       "      <td>12</td>\n",
       "      <td>573</td>\n",
       "    </tr>\n",
       "    <tr>\n",
       "      <th>2</th>\n",
       "      <td>12</td>\n",
       "      <td>8</td>\n",
       "      <td>159</td>\n",
       "    </tr>\n",
       "    <tr>\n",
       "      <th>3</th>\n",
       "      <td>24</td>\n",
       "      <td>15</td>\n",
       "      <td>2999</td>\n",
       "    </tr>\n",
       "    <tr>\n",
       "      <th>4</th>\n",
       "      <td>20</td>\n",
       "      <td>10</td>\n",
       "      <td>57</td>\n",
       "    </tr>\n",
       "  </tbody>\n",
       "</table>\n",
       "</div>"
      ],
      "text/plain": [
       "   ProductId  OrderId  Price\n",
       "0         19       25   3026\n",
       "1         27       12    573\n",
       "2         12        8    159\n",
       "3         24       15   2999\n",
       "4         20       10     57"
      ]
     },
     "execution_count": 4,
     "metadata": {},
     "output_type": "execute_result"
    }
   ],
   "source": [
    "# Проверяем всё ли корректно загрузилось\n",
    "\n",
    "df2.head()"
   ]
  },
  {
   "cell_type": "code",
   "execution_count": 5,
   "metadata": {},
   "outputs": [
    {
     "data": {
      "text/html": [
       "<div>\n",
       "<style scoped>\n",
       "    .dataframe tbody tr th:only-of-type {\n",
       "        vertical-align: middle;\n",
       "    }\n",
       "\n",
       "    .dataframe tbody tr th {\n",
       "        vertical-align: top;\n",
       "    }\n",
       "\n",
       "    .dataframe thead th {\n",
       "        text-align: right;\n",
       "    }\n",
       "</style>\n",
       "<table border=\"1\" class=\"dataframe\">\n",
       "  <thead>\n",
       "    <tr style=\"text-align: right;\">\n",
       "      <th></th>\n",
       "      <th>ProductId</th>\n",
       "      <th>OrderIdOrderId</th>\n",
       "      <th>Price</th>\n",
       "      <th>OrderId</th>\n",
       "      <th>CustomerId</th>\n",
       "      <th>DateTime</th>\n",
       "    </tr>\n",
       "  </thead>\n",
       "  <tbody>\n",
       "    <tr>\n",
       "      <th>0</th>\n",
       "      <td>19</td>\n",
       "      <td>25</td>\n",
       "      <td>3026</td>\n",
       "      <td>13</td>\n",
       "      <td>20</td>\n",
       "      <td>2018-11-26 23:59:58.995</td>\n",
       "    </tr>\n",
       "    <tr>\n",
       "      <th>1</th>\n",
       "      <td>27</td>\n",
       "      <td>12</td>\n",
       "      <td>573</td>\n",
       "      <td>17</td>\n",
       "      <td>20</td>\n",
       "      <td>2018-11-13 23:59:58.995</td>\n",
       "    </tr>\n",
       "    <tr>\n",
       "      <th>2</th>\n",
       "      <td>12</td>\n",
       "      <td>8</td>\n",
       "      <td>159</td>\n",
       "      <td>18</td>\n",
       "      <td>25</td>\n",
       "      <td>2018-11-09 23:59:58.995</td>\n",
       "    </tr>\n",
       "    <tr>\n",
       "      <th>3</th>\n",
       "      <td>24</td>\n",
       "      <td>15</td>\n",
       "      <td>2999</td>\n",
       "      <td>9</td>\n",
       "      <td>22</td>\n",
       "      <td>2018-11-16 23:59:58.995</td>\n",
       "    </tr>\n",
       "    <tr>\n",
       "      <th>4</th>\n",
       "      <td>20</td>\n",
       "      <td>10</td>\n",
       "      <td>57</td>\n",
       "      <td>11</td>\n",
       "      <td>22</td>\n",
       "      <td>2018-11-11 23:59:58.995</td>\n",
       "    </tr>\n",
       "  </tbody>\n",
       "</table>\n",
       "</div>"
      ],
      "text/plain": [
       "   ProductId  OrderIdOrderId  Price  OrderId  CustomerId  \\\n",
       "0         19              25   3026       13          20   \n",
       "1         27              12    573       17          20   \n",
       "2         12               8    159       18          25   \n",
       "3         24              15   2999        9          22   \n",
       "4         20              10     57       11          22   \n",
       "\n",
       "                 DateTime  \n",
       "0 2018-11-26 23:59:58.995  \n",
       "1 2018-11-13 23:59:58.995  \n",
       "2 2018-11-09 23:59:58.995  \n",
       "3 2018-11-16 23:59:58.995  \n",
       "4 2018-11-11 23:59:58.995  "
      ]
     },
     "execution_count": 5,
     "metadata": {},
     "output_type": "execute_result"
    }
   ],
   "source": [
    "# Отбираем данные только за последний месяц (месяц = month_curr, константа для простоты работы с текущими данными)\n",
    "\n",
    "df2_join = df2.join(df1, on='OrderId', how='left', lsuffix='OrderId')\n",
    "df2_join = df2_join[df2_join['DateTime'].apply(lambda x: x.month == month_curr)]\n",
    "df2_join.head()"
   ]
  },
  {
   "cell_type": "code",
   "execution_count": 6,
   "metadata": {},
   "outputs": [
    {
     "data": {
      "text/html": [
       "<div>\n",
       "<style scoped>\n",
       "    .dataframe tbody tr th:only-of-type {\n",
       "        vertical-align: middle;\n",
       "    }\n",
       "\n",
       "    .dataframe tbody tr th {\n",
       "        vertical-align: top;\n",
       "    }\n",
       "\n",
       "    .dataframe thead th {\n",
       "        text-align: right;\n",
       "    }\n",
       "</style>\n",
       "<table border=\"1\" class=\"dataframe\">\n",
       "  <thead>\n",
       "    <tr style=\"text-align: right;\">\n",
       "      <th></th>\n",
       "      <th>Price</th>\n",
       "    </tr>\n",
       "    <tr>\n",
       "      <th>ProductId</th>\n",
       "      <th></th>\n",
       "    </tr>\n",
       "  </thead>\n",
       "  <tbody>\n",
       "    <tr>\n",
       "      <th>20</th>\n",
       "      <td>6</td>\n",
       "    </tr>\n",
       "    <tr>\n",
       "      <th>12</th>\n",
       "      <td>5</td>\n",
       "    </tr>\n",
       "    <tr>\n",
       "      <th>24</th>\n",
       "      <td>4</td>\n",
       "    </tr>\n",
       "    <tr>\n",
       "      <th>22</th>\n",
       "      <td>4</td>\n",
       "    </tr>\n",
       "    <tr>\n",
       "      <th>30</th>\n",
       "      <td>4</td>\n",
       "    </tr>\n",
       "    <tr>\n",
       "      <th>28</th>\n",
       "      <td>4</td>\n",
       "    </tr>\n",
       "    <tr>\n",
       "      <th>25</th>\n",
       "      <td>3</td>\n",
       "    </tr>\n",
       "    <tr>\n",
       "      <th>27</th>\n",
       "      <td>3</td>\n",
       "    </tr>\n",
       "    <tr>\n",
       "      <th>29</th>\n",
       "      <td>3</td>\n",
       "    </tr>\n",
       "    <tr>\n",
       "      <th>15</th>\n",
       "      <td>3</td>\n",
       "    </tr>\n",
       "  </tbody>\n",
       "</table>\n",
       "</div>"
      ],
      "text/plain": [
       "           Price\n",
       "ProductId       \n",
       "20             6\n",
       "12             5\n",
       "24             4\n",
       "22             4\n",
       "30             4\n",
       "28             4\n",
       "25             3\n",
       "27             3\n",
       "29             3\n",
       "15             3"
      ]
     },
     "execution_count": 6,
     "metadata": {},
     "output_type": "execute_result"
    }
   ],
   "source": [
    "# Популярные товары с точки зрения количества проданных товаров (продано больше трех штук)\n",
    "\n",
    "df2_gr = pd.DataFrame(df2_join.groupby('ProductId')['Price'].count().sort_values(ascending=False))\n",
    "df2_gr.head(10)"
   ]
  },
  {
   "cell_type": "code",
   "execution_count": 7,
   "metadata": {},
   "outputs": [
    {
     "data": {
      "text/html": [
       "<div>\n",
       "<style scoped>\n",
       "    .dataframe tbody tr th:only-of-type {\n",
       "        vertical-align: middle;\n",
       "    }\n",
       "\n",
       "    .dataframe tbody tr th {\n",
       "        vertical-align: top;\n",
       "    }\n",
       "\n",
       "    .dataframe thead th {\n",
       "        text-align: right;\n",
       "    }\n",
       "</style>\n",
       "<table border=\"1\" class=\"dataframe\">\n",
       "  <thead>\n",
       "    <tr style=\"text-align: right;\">\n",
       "      <th></th>\n",
       "      <th>counter</th>\n",
       "    </tr>\n",
       "    <tr>\n",
       "      <th>ProductId</th>\n",
       "      <th></th>\n",
       "    </tr>\n",
       "  </thead>\n",
       "  <tbody>\n",
       "    <tr>\n",
       "      <th>20</th>\n",
       "      <td>6</td>\n",
       "    </tr>\n",
       "    <tr>\n",
       "      <th>12</th>\n",
       "      <td>5</td>\n",
       "    </tr>\n",
       "    <tr>\n",
       "      <th>24</th>\n",
       "      <td>4</td>\n",
       "    </tr>\n",
       "    <tr>\n",
       "      <th>22</th>\n",
       "      <td>4</td>\n",
       "    </tr>\n",
       "    <tr>\n",
       "      <th>30</th>\n",
       "      <td>4</td>\n",
       "    </tr>\n",
       "    <tr>\n",
       "      <th>28</th>\n",
       "      <td>4</td>\n",
       "    </tr>\n",
       "  </tbody>\n",
       "</table>\n",
       "</div>"
      ],
      "text/plain": [
       "           counter\n",
       "ProductId         \n",
       "20               6\n",
       "12               5\n",
       "24               4\n",
       "22               4\n",
       "30               4\n",
       "28               4"
      ]
     },
     "execution_count": 7,
     "metadata": {},
     "output_type": "execute_result"
    }
   ],
   "source": [
    "# Популярные товары с точки зрения количества проданных товаров (продано больше трех штук)\n",
    "\n",
    "df2_gr = pd.DataFrame(df2_join.groupby('ProductId')['Price'].count().sort_values(ascending=False))\n",
    "df2_most = df2_gr[df2_gr['Price'] > 3]\n",
    "df2_most = df2_most.rename(index=str, columns={'Price':'counter'})\n",
    "df2_most"
   ]
  },
  {
   "cell_type": "code",
   "execution_count": 8,
   "metadata": {},
   "outputs": [
    {
     "data": {
      "text/plain": [
       "Index(['20', '12', '24', '22', '30', '28'], dtype='object', name='ProductId')"
      ]
     },
     "execution_count": 8,
     "metadata": {},
     "output_type": "execute_result"
    }
   ],
   "source": [
    "# ProductId наиболее популярных товаров в виде списка\n",
    "\n",
    "list_most = df2_most.index\n",
    "list_most"
   ]
  },
  {
   "cell_type": "code",
   "execution_count": 9,
   "metadata": {},
   "outputs": [],
   "source": [
    "#  Промежуточный DataFrame с группировкой по товарам и расчетом выручки по каждому товару\n",
    "\n",
    "df2_sum = pd.DataFrame(df2_join.groupby('ProductId')['Price'].sum().sort_values(ascending=False))"
   ]
  },
  {
   "cell_type": "code",
   "execution_count": 10,
   "metadata": {},
   "outputs": [
    {
     "data": {
      "text/html": [
       "<div>\n",
       "<style scoped>\n",
       "    .dataframe tbody tr th:only-of-type {\n",
       "        vertical-align: middle;\n",
       "    }\n",
       "\n",
       "    .dataframe tbody tr th {\n",
       "        vertical-align: top;\n",
       "    }\n",
       "\n",
       "    .dataframe thead th {\n",
       "        text-align: right;\n",
       "    }\n",
       "</style>\n",
       "<table border=\"1\" class=\"dataframe\">\n",
       "  <thead>\n",
       "    <tr style=\"text-align: right;\">\n",
       "      <th></th>\n",
       "      <th>Price</th>\n",
       "    </tr>\n",
       "    <tr>\n",
       "      <th>ProductId</th>\n",
       "      <th></th>\n",
       "    </tr>\n",
       "  </thead>\n",
       "  <tbody>\n",
       "    <tr>\n",
       "      <th>20</th>\n",
       "      <td>16343</td>\n",
       "    </tr>\n",
       "    <tr>\n",
       "      <th>22</th>\n",
       "      <td>11254</td>\n",
       "    </tr>\n",
       "    <tr>\n",
       "      <th>12</th>\n",
       "      <td>10537</td>\n",
       "    </tr>\n",
       "    <tr>\n",
       "      <th>24</th>\n",
       "      <td>8905</td>\n",
       "    </tr>\n",
       "    <tr>\n",
       "      <th>28</th>\n",
       "      <td>8836</td>\n",
       "    </tr>\n",
       "    <tr>\n",
       "      <th>30</th>\n",
       "      <td>7623</td>\n",
       "    </tr>\n",
       "  </tbody>\n",
       "</table>\n",
       "</div>"
      ],
      "text/plain": [
       "           Price\n",
       "ProductId       \n",
       "20         16343\n",
       "22         11254\n",
       "12         10537\n",
       "24          8905\n",
       "28          8836\n",
       "30          7623"
      ]
     },
     "execution_count": 10,
     "metadata": {},
     "output_type": "execute_result"
    }
   ],
   "source": [
    "# Суммарная выручка по каждому из популярных товаров\n",
    "\n",
    "df2_sum = df2_sum[df2_sum.index.isin(list_most)]\n",
    "df2_sum"
   ]
  },
  {
   "cell_type": "code",
   "execution_count": 11,
   "metadata": {},
   "outputs": [
    {
     "data": {
      "text/plain": [
       "array([ 8,  9, 11, 13, 14, 16, 17, 18, 19, 20, 24, 25], dtype=int64)"
      ]
     },
     "execution_count": 11,
     "metadata": {},
     "output_type": "execute_result"
    }
   ],
   "source": [
    "# Получаем список чеков в которых есть товары из списка самых популярных товаров\n",
    "\n",
    "list_order = df2_join[df2_join['ProductId'].isin(list_most)]['OrderId'].sort_values().unique()\n",
    "list_order"
   ]
  },
  {
   "cell_type": "code",
   "execution_count": 12,
   "metadata": {},
   "outputs": [
    {
     "data": {
      "text/html": [
       "<div>\n",
       "<style scoped>\n",
       "    .dataframe tbody tr th:only-of-type {\n",
       "        vertical-align: middle;\n",
       "    }\n",
       "\n",
       "    .dataframe tbody tr th {\n",
       "        vertical-align: top;\n",
       "    }\n",
       "\n",
       "    .dataframe thead th {\n",
       "        text-align: right;\n",
       "    }\n",
       "</style>\n",
       "<table border=\"1\" class=\"dataframe\">\n",
       "  <thead>\n",
       "    <tr style=\"text-align: right;\">\n",
       "      <th></th>\n",
       "      <th>Price</th>\n",
       "    </tr>\n",
       "    <tr>\n",
       "      <th>OrderId</th>\n",
       "      <th></th>\n",
       "    </tr>\n",
       "  </thead>\n",
       "  <tbody>\n",
       "    <tr>\n",
       "      <th>8</th>\n",
       "      <td>5539</td>\n",
       "    </tr>\n",
       "    <tr>\n",
       "      <th>9</th>\n",
       "      <td>9678</td>\n",
       "    </tr>\n",
       "    <tr>\n",
       "      <th>11</th>\n",
       "      <td>2160</td>\n",
       "    </tr>\n",
       "    <tr>\n",
       "      <th>13</th>\n",
       "      <td>11947</td>\n",
       "    </tr>\n",
       "    <tr>\n",
       "      <th>14</th>\n",
       "      <td>3891</td>\n",
       "    </tr>\n",
       "  </tbody>\n",
       "</table>\n",
       "</div>"
      ],
      "text/plain": [
       "         Price\n",
       "OrderId       \n",
       "8         5539\n",
       "9         9678\n",
       "11        2160\n",
       "13       11947\n",
       "14        3891"
      ]
     },
     "execution_count": 12,
     "metadata": {},
     "output_type": "execute_result"
    }
   ],
   "source": [
    "# Сумма каждого чека\n",
    "\n",
    "df2_order = pd.DataFrame(df2_join.groupby('OrderId')['Price'].sum())\n",
    "df2_order.head()"
   ]
  },
  {
   "cell_type": "code",
   "execution_count": 13,
   "metadata": {},
   "outputs": [
    {
     "data": {
      "text/plain": [
       "Price    9671.5\n",
       "dtype: float64"
      ]
     },
     "execution_count": 13,
     "metadata": {},
     "output_type": "execute_result"
    }
   ],
   "source": [
    "# Получаем средний чек заказов в которых есть товары из сипска самых популярных товаров\n",
    "\n",
    "mean_order = df2_order[df2_order.index.isin(list_order)].mean()\n",
    "mean_order"
   ]
  },
  {
   "cell_type": "markdown",
   "metadata": {},
   "source": [
    "Отчет в виде функции, где ключ подаваемый на вход этой функции:\n",
    "<br>1 - Cамые популярные за последний месяц продукты\n",
    "<br>2 - Cуммарная выручка по каждому из наиболее популярных продуктов\n",
    "<br>3 - Средний чек заказов, в которых есть наиболее популярные продукты"
   ]
  },
  {
   "cell_type": "code",
   "execution_count": 14,
   "metadata": {},
   "outputs": [],
   "source": [
    "def report(type_report):\n",
    "    if type_report in [1,2,3]:\n",
    "        \n",
    "        df1 = pd.read_excel('MindBox.xlsx', sheet_name='orders')\n",
    "        df2 = pd.read_excel('MindBox.xlsx', sheet_name='order_lines')\n",
    "        df2_join = df2.join(df1, on='OrderId', how='left', lsuffix='OrderId')\n",
    "        df2_join = df2_join[df2_join['DateTime'].apply(lambda x: x.month == month_curr)]\n",
    "        df2_gr = pd.DataFrame(df2_join.groupby('ProductId')['Price'].count().sort_values(ascending=False))\n",
    "        df2_gr = pd.DataFrame(df2_join.groupby('ProductId')['Price'].count().sort_values(ascending=False))\n",
    "        df2_most = df2_gr[df2_gr['Price'] > 3]\n",
    "        df2_most = df2_most.rename(index=str, columns={'Price':'counter'})\n",
    "        list_most = df2_most.index\n",
    "        df2_sum = pd.DataFrame(df2_join.groupby('ProductId')['Price'].sum().sort_values(ascending=False))\n",
    "        df2_sum = df2_sum[df2_sum.index.isin(list_most)]\n",
    "        list_order = df2_join[df2_join['ProductId'].isin(list_most)]['OrderId'].sort_values().unique()\n",
    "        df2_order = pd.DataFrame(df2_join.groupby('OrderId')['Price'].sum())\n",
    "        mean_order = df2_order[df2_order.index.isin(list_order)].mean()\n",
    "        \n",
    "    if type_report == 1:\n",
    "        return print('Cамые популярные за последний месяц продукты'), df2_most\n",
    "    if type_report == 2:\n",
    "        return print('Cуммарная выручка по каждому из наиболее популярных продуктов'), df2_sum\n",
    "    if type_report == 3:\n",
    "        return print('Средний чек заказов, в которых есть наиболее популярные продукты =', mean_order[0])\n",
    "    return print('Ошибка ввода')\n",
    "        "
   ]
  },
  {
   "cell_type": "code",
   "execution_count": 15,
   "metadata": {},
   "outputs": [
    {
     "name": "stdout",
     "output_type": "stream",
     "text": [
      "Cамые популярные за последний месяц продукты\n"
     ]
    },
    {
     "data": {
      "text/plain": [
       "(None,            counter\n",
       " ProductId         \n",
       " 20               6\n",
       " 12               5\n",
       " 24               4\n",
       " 22               4\n",
       " 30               4\n",
       " 28               4)"
      ]
     },
     "execution_count": 15,
     "metadata": {},
     "output_type": "execute_result"
    }
   ],
   "source": [
    "report(1)"
   ]
  },
  {
   "cell_type": "code",
   "execution_count": 16,
   "metadata": {},
   "outputs": [
    {
     "name": "stdout",
     "output_type": "stream",
     "text": [
      "Cуммарная выручка по каждому из наиболее популярных продуктов\n"
     ]
    },
    {
     "data": {
      "text/plain": [
       "(None,            Price\n",
       " ProductId       \n",
       " 20         16343\n",
       " 22         11254\n",
       " 12         10537\n",
       " 24          8905\n",
       " 28          8836\n",
       " 30          7623)"
      ]
     },
     "execution_count": 16,
     "metadata": {},
     "output_type": "execute_result"
    }
   ],
   "source": [
    "report(2)"
   ]
  },
  {
   "cell_type": "code",
   "execution_count": 17,
   "metadata": {},
   "outputs": [
    {
     "name": "stdout",
     "output_type": "stream",
     "text": [
      "Средний чек заказов, в которых есть наиболее популярные продукты = 9671.5\n"
     ]
    }
   ],
   "source": [
    "report(3)"
   ]
  },
  {
   "cell_type": "code",
   "execution_count": 18,
   "metadata": {},
   "outputs": [
    {
     "name": "stdout",
     "output_type": "stream",
     "text": [
      "Ошибка ввода\n"
     ]
    }
   ],
   "source": [
    "report(4)"
   ]
  }
 ],
 "metadata": {
  "kernelspec": {
   "display_name": "Python 3",
   "language": "python",
   "name": "python3"
  },
  "language_info": {
   "codemirror_mode": {
    "name": "ipython",
    "version": 3
   },
   "file_extension": ".py",
   "mimetype": "text/x-python",
   "name": "python",
   "nbconvert_exporter": "python",
   "pygments_lexer": "ipython3",
   "version": "3.6.7"
  }
 },
 "nbformat": 4,
 "nbformat_minor": 2
}
